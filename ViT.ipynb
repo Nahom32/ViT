{
  "nbformat": 4,
  "nbformat_minor": 0,
  "metadata": {
    "colab": {
      "provenance": [],
      "authorship_tag": "ABX9TyPE4mER9fXkKfIAMjTwUEAw",
      "include_colab_link": true
    },
    "kernelspec": {
      "name": "python3",
      "display_name": "Python 3"
    },
    "language_info": {
      "name": "python"
    }
  },
  "cells": [
    {
      "cell_type": "markdown",
      "metadata": {
        "id": "view-in-github",
        "colab_type": "text"
      },
      "source": [
        "<a href=\"https://colab.research.google.com/github/Nahom32/ViT/blob/main/ViT.ipynb\" target=\"_parent\"><img src=\"https://colab.research.google.com/assets/colab-badge.svg\" alt=\"Open In Colab\"/></a>"
      ]
    },
    {
      "cell_type": "code",
      "execution_count": 1,
      "metadata": {
        "id": "f5ELwdeVG7_N"
      },
      "outputs": [],
      "source": [
        "import numpy as np\n",
        "import torch\n",
        "import torch.nn as nn\n",
        "from torchvision import datasets, transforms"
      ]
    },
    {
      "cell_type": "code",
      "source": [
        "import math\n",
        "\n",
        "transform = transforms.Compose([transforms.ToTensor()])\n",
        "\n",
        "train_data = datasets.CIFAR10(root='./data/cifar-10', train=True, download=True, transform=transform)\n",
        "test_data = datasets.CIFAR10(root='./data/cifar-10', train=False, download=True, transform=transform)"
      ],
      "metadata": {
        "colab": {
          "base_uri": "https://localhost:8080/"
        },
        "id": "Lfh65h_arVOt",
        "outputId": "3f961a19-9539-4427-d315-c7a41ad6d897"
      },
      "execution_count": 2,
      "outputs": [
        {
          "output_type": "stream",
          "name": "stderr",
          "text": [
            "100%|██████████| 170M/170M [00:03<00:00, 47.4MB/s]\n"
          ]
        }
      ]
    },
    {
      "cell_type": "code",
      "source": [
        "class PatchEmbedding(nn.Module):\n",
        "    def __init__(self, img_size = 32, patch_size = 4, in_chans = 3, embed_dim = 768):\n",
        "        super().__init__()\n",
        "        self.img_size   = img_size\n",
        "        self.patch_size = patch_size    # P\n",
        "        self.in_chans   = in_chans      # C\n",
        "        self.embed_dim  = embed_dim     # D\n",
        "\n",
        "        self.num_patches = (img_size // patch_size) ** 2        # N = H*W/P^2\n",
        "        self.flatten_dim = patch_size * patch_size * in_chans   # P^2*C\n",
        "\n",
        "        self.proj = nn.Linear(self.flatten_dim, embed_dim) # (P^2*C,D)\n",
        "\n",
        "        self.position_embed = nn.Parameter(torch.zeros(1, 1 + self.num_patches, embed_dim))\n",
        "        self.class_embed    = nn.Parameter(torch.zeros(1, 1, embed_dim))\n",
        "\n",
        "    def forward(self, x):\n",
        "        B, C, H, W = x.shape\n",
        "\n",
        "        x = x.unfold(2, self.patch_size, self.patch_size).unfold(3, self.patch_size, self.patch_size)\n",
        "        x = x.reshape(1, -1, self.patch_size, self.patch_size)\n",
        "        x = x.permute(0, 2, 1, 3).reshape(B, self.num_patches, -1)\n",
        "\n",
        "        x = self.proj(x)\n",
        "\n",
        "        cls_emb = self.class_embed.expand(B, -1, -1)\n",
        "        x = torch.cat((cls_emb, x), dim = 1)\n",
        "\n",
        "        x = x + self.position_embed\n",
        "        return x\n"
      ],
      "metadata": {
        "id": "ZsNTr5pPy6KH"
      },
      "execution_count": 3,
      "outputs": []
    },
    {
      "cell_type": "code",
      "source": [
        "patch_embed = PatchEmbedding()\n",
        "\n",
        "embeddings = patch_embed(torch.stack([train_data[i][0] for i in range(10)]))\n",
        "print(embeddings.shape)\n",
        "print(embeddings)\n"
      ],
      "metadata": {
        "colab": {
          "base_uri": "https://localhost:8080/"
        },
        "id": "19tRKjhCavJo",
        "outputId": "42f1c8d8-eaa5-4c14-f415-c9dcd7cd2419"
      },
      "execution_count": 4,
      "outputs": [
        {
          "output_type": "stream",
          "name": "stdout",
          "text": [
            "torch.Size([10, 65, 768])\n",
            "tensor([[[ 0.0000e+00,  0.0000e+00,  0.0000e+00,  ...,  0.0000e+00,\n",
            "           0.0000e+00,  0.0000e+00],\n",
            "         [-5.2078e-01,  1.0504e-02,  5.4104e-01,  ...,  1.8488e-01,\n",
            "          -3.0784e-01,  1.0644e-01],\n",
            "         [-4.0490e-01,  4.1700e-03,  4.2748e-01,  ...,  1.1319e-01,\n",
            "          -2.0800e-01, -2.2263e-02],\n",
            "         ...,\n",
            "         [-3.0173e-01,  7.5302e-02,  3.5745e-01,  ...,  1.8374e-01,\n",
            "          -1.4220e-01,  1.4374e-01],\n",
            "         [-3.3998e-01, -3.5417e-02,  3.2596e-01,  ...,  1.0464e-01,\n",
            "          -6.7990e-02, -7.4361e-02],\n",
            "         [-1.7090e-01, -1.3885e-02,  2.8166e-01,  ...,  1.0261e-01,\n",
            "          -6.6580e-02, -3.1313e-02]],\n",
            "\n",
            "        [[ 0.0000e+00,  0.0000e+00,  0.0000e+00,  ...,  0.0000e+00,\n",
            "           0.0000e+00,  0.0000e+00],\n",
            "         [-6.6811e-01, -1.0550e-01,  5.6385e-01,  ..., -4.7664e-03,\n",
            "          -2.9877e-01, -7.1115e-02],\n",
            "         [-3.9925e-01, -3.2990e-03,  3.9107e-01,  ...,  1.3110e-01,\n",
            "          -9.6710e-02, -8.2381e-03],\n",
            "         ...,\n",
            "         [-4.1846e-01, -2.7282e-01,  3.4286e-01,  ..., -1.0820e-01,\n",
            "          -2.9556e-01, -9.6719e-02],\n",
            "         [-4.7741e-01, -8.6843e-02,  4.5292e-01,  ...,  1.6361e-02,\n",
            "          -7.6790e-02, -9.3113e-02],\n",
            "         [-4.5228e-01, -1.0775e-01,  4.6332e-01,  ...,  2.6719e-02,\n",
            "          -7.9874e-02, -8.3537e-02]],\n",
            "\n",
            "        [[ 0.0000e+00,  0.0000e+00,  0.0000e+00,  ...,  0.0000e+00,\n",
            "           0.0000e+00,  0.0000e+00],\n",
            "         [-6.2960e-01, -1.8350e-02,  4.9477e-01,  ...,  1.7183e-01,\n",
            "          -2.2984e-01,  3.6618e-02],\n",
            "         [-4.9769e-01,  8.3596e-02,  3.5794e-01,  ...,  1.7675e-01,\n",
            "          -1.8620e-01,  7.6353e-02],\n",
            "         ...,\n",
            "         [-8.0527e-01,  3.0836e-02,  6.8575e-01,  ...,  1.1106e-01,\n",
            "          -5.5097e-01, -5.3779e-02],\n",
            "         [-7.1500e-01, -2.2697e-02,  6.3969e-01,  ...,  6.9326e-02,\n",
            "          -1.7885e-01,  9.0283e-02],\n",
            "         [-1.8021e-01, -2.3517e-02,  4.1871e-01,  ..., -3.4318e-02,\n",
            "          -2.6063e-01,  2.1848e-02]],\n",
            "\n",
            "        ...,\n",
            "\n",
            "        [[ 0.0000e+00,  0.0000e+00,  0.0000e+00,  ...,  0.0000e+00,\n",
            "           0.0000e+00,  0.0000e+00],\n",
            "         [-6.0453e-01, -2.0827e-02,  4.5594e-01,  ...,  1.4933e-01,\n",
            "          -2.4374e-01,  1.4848e-02],\n",
            "         [-3.6239e-01, -4.3149e-02,  3.7511e-01,  ...,  7.3695e-02,\n",
            "          -1.0285e-01, -3.7264e-02],\n",
            "         ...,\n",
            "         [-6.7887e-01,  3.5600e-02,  4.5111e-01,  ...,  2.1520e-01,\n",
            "          -2.2597e-01, -1.0098e-01],\n",
            "         [-3.5137e-01,  1.9126e-02,  4.4051e-01,  ...,  2.0509e-01,\n",
            "          -1.7130e-01,  1.8467e-01],\n",
            "         [-2.8496e-01,  7.9452e-02,  2.2817e-01,  ...,  1.3716e-01,\n",
            "          -2.3608e-01, -4.4877e-02]],\n",
            "\n",
            "        [[ 0.0000e+00,  0.0000e+00,  0.0000e+00,  ...,  0.0000e+00,\n",
            "           0.0000e+00,  0.0000e+00],\n",
            "         [-1.3049e+00, -2.7015e-03,  8.1997e-01,  ...,  3.3090e-01,\n",
            "          -3.9277e-01,  9.5528e-02],\n",
            "         [-9.2779e-01,  8.5165e-02,  7.4456e-01,  ...,  6.7573e-02,\n",
            "          -4.6136e-01,  2.6217e-01],\n",
            "         ...,\n",
            "         [-1.8176e-01, -1.0557e-01,  1.8239e-01,  ...,  1.0775e-01,\n",
            "           3.8418e-02, -9.8454e-02],\n",
            "         [-5.3045e-02, -9.0559e-02,  3.1131e-01,  ..., -7.8703e-02,\n",
            "           2.5912e-03, -4.6122e-02],\n",
            "         [-2.9495e-02, -7.3585e-02,  1.9823e-01,  ..., -2.2338e-02,\n",
            "          -6.1232e-02, -7.8706e-02]],\n",
            "\n",
            "        [[ 0.0000e+00,  0.0000e+00,  0.0000e+00,  ...,  0.0000e+00,\n",
            "           0.0000e+00,  0.0000e+00],\n",
            "         [-5.7082e-01, -3.7294e-02,  3.9502e-01,  ...,  1.0922e-01,\n",
            "          -2.7637e-01, -2.8975e-02],\n",
            "         [-7.2413e-01, -1.3345e-02,  2.8653e-01,  ...,  2.4613e-01,\n",
            "          -2.5191e-01,  6.6169e-02],\n",
            "         ...,\n",
            "         [-2.5227e-03, -9.7683e-02,  2.2603e-01,  ...,  4.3342e-02,\n",
            "          -3.2657e-02, -1.4711e-02],\n",
            "         [-3.0055e-02, -6.3231e-02,  1.8143e-01,  ..., -1.2302e-03,\n",
            "          -2.2691e-02, -7.4632e-02],\n",
            "         [-1.9963e-01, -1.0041e-02,  2.4487e-01,  ...,  1.4401e-01,\n",
            "          -8.6816e-02,  3.9923e-02]]], grad_fn=<AddBackward0>)\n"
          ]
        }
      ]
    },
    {
      "cell_type": "markdown",
      "source": [],
      "metadata": {
        "id": "o3QFUhzvHGH8"
      }
    }
  ]
}